{
 "cells": [
  {
   "cell_type": "markdown",
   "metadata": {},
   "source": [
    "# Solution of Week 1 Programming Assignment \n",
    "\n",
    "Remark: \n",
    "\n",
    "The following solution just provides you one way to solve the problems."
   ]
  },
  {
   "cell_type": "markdown",
   "metadata": {
    "colab_type": "text",
    "id": "l2ENBj8Nz3kg"
   },
   "source": [
    "================================================================================================================="
   ]
  },
  {
   "cell_type": "markdown",
   "metadata": {
    "colab_type": "text",
    "id": "t8Op_NP5z3kf"
   },
   "source": [
    "### **Problem 1 (1 pt).** Plot the curve of function \n",
    "### $$f(x) = x^3 - x,~~ x \\in[-1,1].$$"
   ]
  },
  {
   "cell_type": "code",
   "execution_count": 5,
   "metadata": {},
   "outputs": [
    {
     "data": {
      "text/plain": [
       "<matplotlib.legend.Legend at 0x7fc6074d96d0>"
      ]
     },
     "execution_count": 5,
     "metadata": {},
     "output_type": "execute_result"
    },
    {
     "data": {
      "image/png": "[encoded data removed]",
      "text/plain": [
       "<Figure size 432x288 with 1 Axes>"
      ]
     },
     "metadata": {
      "needs_background": "light"
     },
     "output_type": "display_data"
    }
   ],
   "source": [
    "from scipy.optimize import fsolve\n",
    "import matplotlib.pyplot as plt\n",
    "import torch\n",
    "import numpy as np\n",
    "\n",
    "def f(x):\n",
    "    return x ** 3 - x \n",
    "\n",
    "x=torch.linspace(-1, 1, 1000)\n",
    "\n",
    "plt.plot(x, f(x), '.', label='function f(x)=x^3-x')\n",
    "plt.legend()\n"
   ]
  },
  {
   "cell_type": "markdown",
   "metadata": {
    "colab_type": "text",
    "id": "l2ENBj8Nz3kg"
   },
   "source": [
    "================================================================================================================="
   ]
  },
  {
   "cell_type": "markdown",
   "metadata": {
    "colab_type": "text",
    "id": "kTHHlHSbz3kn"
   },
   "source": [
    "### **Problem 2 (2 pts).** \n",
    "### (1) Find the two roots of the function\n",
    "### $$f(x) = 2x^2 - x - 1,~~ x \\in[-1,2].$$\n",
    "\n",
    "### (2) Plot the curve of the function $f(x)$ defined in (1) and mark all the roots on the curve."
   ]
  },
  {
   "cell_type": "code",
   "execution_count": 7,
   "metadata": {},
   "outputs": [
    {
     "name": "stdout",
     "output_type": "stream",
     "text": [
      "The one root is: [-0.5]\n",
      "The other root is: [1.]\n"
     ]
    },
    {
     "data": {
      "text/plain": [
       "<matplotlib.legend.Legend at 0x7fc6074d27c0>"
      ]
     },
     "execution_count": 7,
     "metadata": {},
     "output_type": "execute_result"
    },
    {
     "data": {
      "image/png": "[encoded data removed]",
      "text/plain": [
       "<Figure size 432x288 with 1 Axes>"
      ]
     },
     "metadata": {
      "needs_background": "light"
     },
     "output_type": "display_data"
    }
   ],
   "source": [
    "def h(x):\n",
    "    return 2 * x ** 2 -x - 1\n",
    "x0 = fsolve(h, -1)\n",
    "x1 = fsolve(h, 2)\n",
    "print('The one root is:', x0)\n",
    "print('The other root is:', x1)\n",
    "\n",
    "x = np.linspace(-1, 2, 1000)\n",
    "plt.plot(x, h(x),'.', label='function h(x)=2x^2 -x -1')\n",
    "plt.plot(x0, h(x0), 'ro',label='root')\n",
    "plt.plot(x1, h(x1), 'go',label='root')\n",
    "plt.legend()"
   ]
  },
  {
   "cell_type": "markdown",
   "metadata": {
    "colab_type": "text",
    "id": "l_Bz9vz7z3kn"
   },
   "source": [
    "================================================================================================================="
   ]
  },
  {
   "cell_type": "markdown",
   "metadata": {
    "colab_type": "text",
    "id": "cL_XkTgmz3k1"
   },
   "source": [
    "### **Problem 3 (optional)**.  Given $P=\\begin{bmatrix} 1 & 2 \\\\ 3 & 4\\end{bmatrix}$, investigate the two different multiplications $P*P$ and $torch.mm(P,P)$."
   ]
  },
  {
   "cell_type": "code",
   "execution_count": 8,
   "metadata": {},
   "outputs": [
    {
     "name": "stdout",
     "output_type": "stream",
     "text": [
      "P is : tensor([[1., 2.],\n",
      "        [3., 4.]])\n",
      "P*P is: tensor([[ 1.,  4.],\n",
      "        [ 9., 16.]])\n",
      "mm(P,P) is: tensor([[ 7., 10.],\n",
      "        [15., 22.]])\n"
     ]
    }
   ],
   "source": [
    "P = torch.tensor([[1,2],[3,4]],dtype=torch.float32) \n",
    "print('P is :', P)\n",
    "\n",
    "\n",
    "\n",
    "print('P*P is:', P*P) \n",
    "\n",
    "\n",
    "print('mm(P,P) is:', torch.mm(P,P)) "
   ]
  },
  {
   "cell_type": "markdown",
   "metadata": {
    "colab_type": "text",
    "id": "l_Bz9vz7z3kn"
   },
   "source": [
    "================================================================================================================="
   ]
  },
  {
   "cell_type": "markdown",
   "metadata": {
    "colab_type": "text",
    "id": "QFdILTiHz3k1"
   },
   "source": [
    "### **Problem 4 (1 pt).**  Given \n",
    "### $$A=\\begin{bmatrix} 1 & 2 & 3 \\\\ 4 & 5 & 6 \\\\ 7 & 8 & 9 \\end{bmatrix}, ~~ b=\\begin{bmatrix} 1  \\\\ 2 \\\\ 3\\end{bmatrix}.$$\n",
    "### Solve $A^2 x = b.$"
   ]
  },
  {
   "cell_type": "code",
   "execution_count": 9,
   "metadata": {},
   "outputs": [
    {
     "name": "stdout",
     "output_type": "stream",
     "text": [
      "A^2 is tensor([[ 30.,  36.,  42.],\n",
      "        [ 66.,  81.,  96.],\n",
      "        [102., 126., 150.]])\n",
      "\n",
      "\n",
      "b is tensor([[1.],\n",
      "        [2.],\n",
      "        [3.]])\n",
      "\n",
      "\n",
      "x is tensor([[-0.0010],\n",
      "        [ 0.2241],\n",
      "        [-0.1676]])\n"
     ]
    }
   ],
   "source": [
    "# You should use torch.mm(A,A) to calculate A^2\n",
    "# Note that in this example, A is singular and A^2x=b has infinite many solutions, torch.solve() will only give one of the solutions.\n",
    "# If you use numpy.linalg.inv(), you may get different outputs.\n",
    "A = torch.tensor([[1,2,3],[4,5,6],[7,8,9]],dtype=torch.float32) \n",
    "print('A^2 is', torch.mm(A,A))\n",
    "\n",
    "\n",
    "print('\\n') \n",
    "\n",
    "b = torch.tensor([[1],[2],[3]],dtype=torch.float32) \n",
    "print('b is', b)\n",
    "\n",
    "print('\\n') \n",
    "\n",
    "x, LU =torch.solve(b,torch.mm(A,A)) \n",
    "print('x is', x)\n"
   ]
  },
  {
   "cell_type": "markdown",
   "metadata": {
    "colab_type": "text",
    "id": "qcBjCGE9z3k2"
   },
   "source": [
    "================================================================================================================="
   ]
  },
  {
   "cell_type": "markdown",
   "metadata": {
    "colab_type": "text",
    "id": "RCGBDvQNz3k4"
   },
   "source": [
    "### **Problem 5 (1 pt).**  Given $f(x,y) = x^2+y^2+(xy)^3$, compute $\\frac{\\partial f(x,y)}{\\partial y}$ at $x=1,y=2$."
   ]
  },
  {
   "cell_type": "code",
   "execution_count": 10,
   "metadata": {},
   "outputs": [
    {
     "name": "stdout",
     "output_type": "stream",
     "text": [
      "(tensor([16.]),)\n"
     ]
    }
   ],
   "source": [
    "x = torch.tensor([1.0])\n",
    "y = torch.tensor([2.0],requires_grad=True)\n",
    "\n",
    "\n",
    "z = x**2 + y ** 2 + (x*y)**3\n",
    "\n",
    "grad = torch.autograd.grad(outputs=z, inputs=y) \n",
    "print(grad)"
   ]
  },
  {
   "cell_type": "markdown",
   "metadata": {
    "colab_type": "text",
    "id": "qcBjCGE9z3k2"
   },
   "source": [
    "================================================================================================================="
   ]
  },
  {
   "cell_type": "markdown",
   "metadata": {
    "colab_type": "text",
    "id": "zDT7DRnn697I"
   },
   "source": [
    "\n",
    "### **Problem 6 (optional).** Define a function to find the minimum of three numbers $a,~b,~c$. Test your code and print the minimum of the three numbers, where $a=\\sqrt{2},~ b=\\frac{4}{3},~ c=0.5e$."
   ]
  },
  {
   "cell_type": "code",
   "execution_count": 7,
   "metadata": {},
   "outputs": [
    {
     "name": "stdout",
     "output_type": "stream",
     "text": [
      "The minimum of 1.4142135623730951, 1.3333333333333333, 1.3591409142295225 is 1.3333333333333333:\n"
     ]
    }
   ],
   "source": [
    "# Note: there is a bug in Example 5 in X03_IntroductionPythonPytorch.ipynb,\n",
    "# where we should use two 'if' instead of 'if-elif'.\n",
    "# I have corrected the file in Canvas\n",
    "def f_min(a,b,c):\n",
    "    min_value = a\n",
    "    if b< min_value:\n",
    "        min_value = b\n",
    "    if c<min_value:\n",
    "        min_value=c\n",
    "    return min_value\n",
    "\n",
    "a = 2 ** 0.5\n",
    "b = 4/3\n",
    "c = 0.5 * np.exp(1)\n",
    "print('The minimum of {}, {}, {} is {}:'.format(a,b,c,f_min(a,b,c)))"
   ]
  },
  {
   "cell_type": "markdown",
   "metadata": {
    "colab_type": "text",
    "id": "qcBjCGE9z3k2"
   },
   "source": [
    "================================================================================================================="
   ]
  },
  {
   "cell_type": "markdown",
   "metadata": {},
   "source": [
    "\n",
    "### **Problem 7 (1 pt).** Define a function to find the maximum and minimum of a sequence with n numbers.\n",
    "\n",
    "Hint: x = np.random.randint(a,b,size=n) can randomly generate n numbers (saved in a row vector x ) and each number is between a and b.\n"
   ]
  },
  {
   "cell_type": "code",
   "execution_count": 8,
   "metadata": {},
   "outputs": [
    {
     "name": "stdout",
     "output_type": "stream",
     "text": [
      "The random sequence is: [5 5 9 4 6 3 1 1 7 5]\n",
      "the minimum value of the sequence is 9\n",
      "the maximum value of the sequence is 1\n"
     ]
    }
   ],
   "source": [
    "def max_min(x):\n",
    "    max_value=x[0]\n",
    "    min_value=x[0]\n",
    "    for i in x:\n",
    "        if i > max_value:\n",
    "            max_value = i\n",
    "        if i < min_value:\n",
    "            min_value = i\n",
    "    return max_value, min_value\n",
    "\n",
    "\n",
    "a=1\n",
    "b=10\n",
    "n=10\n",
    "\n",
    "x = np.random.randint(a,b,size=n)\n",
    "\n",
    "print('The random sequence is:', x)\n",
    "\n",
    "max_value,minvalue = max_min(x)\n",
    "\n",
    "print('the minimum value of the sequence is', max_value)\n",
    "print('the maximum value of the sequence is', minvalue)\n"
   ]
  },
  {
   "cell_type": "markdown",
   "metadata": {
    "colab_type": "text",
    "id": "qcBjCGE9z3k2"
   },
   "source": [
    "================================================================================================================="
   ]
  },
  {
   "cell_type": "markdown",
   "metadata": {},
   "source": [
    "### **Problem 8 (1 pt).**  Define a function to sort a sequence with n numbers in ascending order.\n"
   ]
  },
  {
   "cell_type": "code",
   "execution_count": 9,
   "metadata": {},
   "outputs": [
    {
     "name": "stdout",
     "output_type": "stream",
     "text": [
      "The random sequence is: [1 8 5 8 5 8 4 5 4 4]\n",
      "The ascending sequence is [1 4 4 4 5 5 5 8 8 8]\n"
     ]
    }
   ],
   "source": [
    "def my_sort(x):\n",
    "    for i in range(len(x)-1):\n",
    "        for j in range(i+1,len(x)):\n",
    "            if x[j] < x[i]:\n",
    "                temp = x[j]\n",
    "                x[j] = x[i]\n",
    "                x[i] = temp\n",
    "    return x\n",
    "\n",
    "\n",
    "a=1\n",
    "b=10\n",
    "n=10\n",
    "\n",
    "x = np.random.randint(a,b,size=n)\n",
    "\n",
    "print('The random sequence is:', x)\n",
    "\n",
    "print('The ascending sequence is', my_sort(x))\n"
   ]
  },
  {
   "cell_type": "markdown",
   "metadata": {
    "colab_type": "text",
    "id": "qcBjCGE9z3k2"
   },
   "source": [
    "================================================================================================================="
   ]
  },
  {
   "cell_type": "markdown",
   "metadata": {},
   "source": [
    "### **Problem 9 (3 pts).**  Given a function \n",
    "### $$f(x,y)=(x-2)^2 + y^2 + 2(y-4)^2 + 2x^2 + 2xy + 4y -16x +1.$$\n",
    "### Please write a code to apply gradient descent method to find the minimum of $f(x,y)$ with initial value $x=y=0$.\n"
   ]
  },
  {
   "cell_type": "code",
   "execution_count": 12,
   "metadata": {},
   "outputs": [
    {
     "name": "stdout",
     "output_type": "stream",
     "text": [
      "Initial values: tensor([0.], requires_grad=True) tensor([0.], requires_grad=True)\n",
      "iteration= 2 : x= 2.0 , y= 1.2000000476837158\n",
      "iteration= 3 : x= 2.559999942779541 , y= 1.2799999713897705\n",
      "iteration= 4 : x= 2.7680001258850098 , y= 1.2000000476837158\n",
      "iteration= 5 : x= 2.8672001361846924 , y= 1.1263999938964844\n",
      "iteration= 6 : x= 2.921600103378296 , y= 1.077120065689087\n",
      "iteration= 7 : x= 2.953216075897217 , y= 1.0465279817581177\n",
      "iteration= 8 : x= 2.9719808101654053 , y= 1.0279680490493774\n",
      "iteration= 9 : x= 2.983198642730713 , y= 1.0167911052703857\n",
      "iteration= 10 : x= 2.9899210929870605 , y= 1.0100767612457275\n",
      "iteration= 11 : x= 2.993953227996826 , y= 1.0060465335845947\n",
      "iteration= 12 : x= 2.9963719844818115 , y= 1.0036280155181885\n",
      "iteration= 13 : x= 2.9978232383728027 , y= 1.0021767616271973\n",
      "iteration= 14 : x= 2.9986939430236816 , y= 1.0013060569763184\n",
      "iteration= 15 : x= 2.999216318130493 , y= 1.0007836818695068\n",
      "iteration= 16 : x= 2.9995298385620117 , y= 1.0004702806472778\n",
      "iteration= 17 : x= 2.999717950820923 , y= 1.0002821683883667\n",
      "iteration= 18 : x= 2.999830722808838 , y= 1.000169277191162\n",
      "iteration= 19 : x= 2.9998984336853027 , y= 1.0001015663146973\n",
      "iteration= 20 : x= 2.99993896484375 , y= 1.0000609159469604\n",
      "iteration= 21 : x= 2.9999632835388184 , y= 1.0000364780426025\n",
      "iteration= 22 : x= 2.9999780654907227 , y= 1.0000219345092773\n",
      "iteration= 23 : x= 2.9999868869781494 , y= 1.0000131130218506\n",
      "iteration= 24 : x= 2.9999921321868896 , y= 1.0000078678131104\n",
      "iteration= 25 : x= 2.999995231628418 , y= 1.0000046491622925\n",
      "iteration= 26 : x= 2.999997138977051 , y= 1.0000027418136597\n",
      "iteration= 27 : x= 2.9999983310699463 , y= 1.0000016689300537\n",
      "iteration= 28 : x= 2.9999990463256836 , y= 1.000001072883606\n",
      "iteration= 29 : x= 2.999999523162842 , y= 1.0000007152557373\n",
      "iteration= 30 : x= 2.999999523162842 , y= 1.0000003576278687\n",
      "iteration= 31 : x= 2.999999761581421 , y= 1.000000238418579\n",
      "iteration= 32 : x= 3.0 , y= 1.0000001192092896\n",
      "The minimum value is 1.0, at x=3.0 and y=1.0000001192092896\n"
     ]
    }
   ],
   "source": [
    "import torch\n",
    "import numpy as np\n",
    "import matplotlib.pyplot as plt\n",
    "from mpl_toolkits.mplot3d import Axes3D\n",
    "from scipy.optimize import fsolve \n",
    "from scipy.optimize import fmin\n",
    "import math\n",
    "\n",
    "def f(x,y):\n",
    "    return (x-2)**2 + y ** 2 + 2*(y-4)**2 + 2*x**2 + 2*x*y+4*y-16*x+1\n",
    "\n",
    "x0 = torch.tensor([0.0], requires_grad=True)\n",
    "y0 = torch.tensor([0.0], requires_grad=True)\n",
    "\n",
    "\n",
    "print('Initial values:', x0,y0)\n",
    "\n",
    "x_old = x0\n",
    "y_old = y0\n",
    "iteration = 1\n",
    "lr = 0.1\n",
    "grad_x = torch.autograd.grad(outputs=f(x_old,y_old), inputs=x_old)[0]\n",
    "grad_y = torch.autograd.grad(outputs=f(x_old,y_old), inputs=y_old)[0]\n",
    "while (abs(grad_x) > 1.0e-10) and ((abs(grad_y) > 1.0e-10)):\n",
    "    x_new = x_old -  lr * grad_x\n",
    "    y_new = y_old -  lr * grad_y\n",
    "    grad_x = torch.autograd.grad(outputs=f(x_new,y_new), inputs=x_new)[0]\n",
    "    grad_y = torch.autograd.grad(outputs=f(x_new,y_new), inputs=y_new)[0]\n",
    "    x_old = x_new\n",
    "    y_old = y_new\n",
    "    iteration = iteration +1\n",
    "    print('iteration=',iteration, ': x=',float(x_new),', y=',float(y_new))\n",
    "    \n",
    "\n",
    "print('The minimum value is {}, at x={} and y={}'.format(float(f(x_new,y_new)),float(x_new),float(y_new)))\n"
   ]
  },
  {
   "cell_type": "code",
   "execution_count": null,
   "metadata": {},
   "outputs": [],
   "source": []
  }
 ],
 "metadata": {
  "colab": {
   "collapsed_sections": [
    "A8btbBuFz3j_",
    "8tnDF8N5z3j_",
    "6NGxntKLz3kO",
    "t8Op_NP5z3kf",
    "eY74kXCSz3kg",
    "PsX9sU1Nz3kh",
    "tt6oay6Rz3kk",
    "kTHHlHSbz3kn",
    "O-OyyHliz3ko",
    "cL_XkTgmz3k1",
    "QFdILTiHz3k1",
    "XmhEkm0nz3k2",
    "bn4Pbjwgz3k4",
    "MJn6VYpQz3k8",
    "JOcri38sz3k8"
   ],
   "name": "Lecture1.ipynb",
   "provenance": []
  },
  "kernelspec": {
   "display_name": "Python 3",
   "language": "python",
   "name": "python3"
  },
  "language_info": {
   "codemirror_mode": {
    "name": "ipython",
    "version": 3
   },
   "file_extension": ".py",
   "mimetype": "text/x-python",
   "name": "python",
   "nbconvert_exporter": "python",
   "pygments_lexer": "ipython3",
   "version": "3.8.8"
  }
 },
 "nbformat": 4,
 "nbformat_minor": 1
}
