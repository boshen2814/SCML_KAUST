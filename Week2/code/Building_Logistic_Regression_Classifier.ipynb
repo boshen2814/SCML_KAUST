{
 "cells": [
  {
   "cell_type": "markdown",
   "id": "02c5d0eb",
   "metadata": {},
   "source": [
    "# Building and Training Neural Networks with Pytorch\n",
    "\n",
    "We have studied how to define a tensor, a function and how to take derivative of a function. In this section, we build and train a logistic regression model with MNIST dataset by using pytorch. It provides built-in functions which make it much easier to build and train neural networks. \n",
    "\n",
    "## Table of contents\n",
    "1. [MNIST database](#MNIST)\n",
    "2. [Dataset, loss, and accuracy ](#data)\n",
    "3. [Build and train a logistic regression model with MNIST dataset](#logre)\n",
    "\n",
    "<div class=\"alert alert-block alert-info\"> <b>\n",
    "\n",
    "### 1. MNIST database  <a name=\"MNIST\"></a>\n",
    "\n",
    "</b></div>\n",
    "\n",
    "The MNIST database (Modified National Institute of Standards and Technology database) is a large collection of handwritten digits. It has a training set of 60,000 examples, and a test set of 10,000 examples. It is a subset of a larger NIST Special Database 3 (digits written by employees of the United States Census Bureau) and Special Database 1 (digits written by high school students) which contain monochrome images of handwritten digits. The digits have been size-normalized and centered in a fixed-size image. The original black and white (bilevel) images from NIST were size normalized to fit in a 20x20 pixel box while preserving their aspect ratio. The resulting images contain grey levels as a result of the anti-aliasing technique used by the normalization algorithm. the images were centered in a 28x28 image by computing the center of mass of the pixels, and translating the image so as to position this point at the center of the 28x28 field.\n",
    "\n",
    "Introduced by [LeCun et al. in Gradient-based learning applied to document recognition](https://arxiv.org/pdf/1102.0183.pdf)\n",
    "\n",
    "source: http://yann.lecun.com/exdb/mnist/ \n"
   ]
  },
  {
   "cell_type": "markdown",
   "id": "79233198",
   "metadata": {},
   "source": [
    "<div class=\"alert alert-block alert-info\"> <b>\n",
    "\n",
    "### 2. Dataset, loss, and accuracy  <a name=\"data\"></a>\n",
    "\n",
    "</b></div>\n",
    "\n",
    "### Training dataset and test dataset\n",
    "Define a dataset as $D = \\{(x_j, y_j)\\}$ and $D=D_1 \\cup D_2$, where:\n",
    "* $D_1$ is the training dataset and $|D_1|$ is the number of data in $D_1$.\n",
    "* $D_2$ is the test dataset and $|D_2|$ is the number of data in $D_2$.\n",
    "\n",
    "\n",
    "### Training loss and test loss\n",
    "Define the loss function:\n",
    "$$L(\\theta) :=\\frac{1}{N} \\sum_{j=1}^N\\ell(y_j, h(x_j; \\theta)).$$\n",
    "Here $\\ell(y_j,h(x_j; \\theta))$ is the  general distance between real label and predicted label. $h(x_j; \\theta)$ is a probability distribution of data $x$.\n",
    "* Training loss is defined as $L(\\theta) :=\\frac{1}{|D_1|} \\sum_{j=1}^{|D_1|}\\ell(y_j, h(x_j; \\theta)).$\n",
    "* Test loss is defined as $L(\\theta) :=\\frac{1}{|D_2|} \\sum_{j=1}^{|D_2|}\\ell(y_j, h(x_j; \\theta)).$\n",
    "\n",
    "### Training accuracy and test accuracy\n",
    "* Training accuracy $= \\frac{\\text{The number of correct classifications in training dataset}}{\\text{the total number of data in training dataset}}$\n",
    "* Test accuracy $= \\frac{\\text{The number of correct classifications in test dataset}}{\\text{the total number of data in test dataset}}$\n",
    "\n",
    "Remark: We usually use the max-out method to do classification. For a given data point $x$, we first compute $h(x;\\theta)$, then we attached $x$ to the class $i= \\arg\\max_j h_j(x; \\theta)$.\n"
   ]
  },
  {
   "cell_type": "markdown",
   "id": "13c22391",
   "metadata": {},
   "source": [
    "### Epoch vs Batch Size vs Iterations\n",
    "\n",
    "When the data is too big which happens all the time in machine learning and we can’t pass all the data to the machine at once. To overcome this problem we need to divide the data into smaller sizes and update the weights of the neural networks at the end of every step to fit it to the data given.\n",
    "\n",
    "\n",
    "#### Epoch\n",
    "\n",
    "One Epoch is when an ENTIRE dataset is passed forward and backward through the neural network only once. Since one epoch is too big to feed to the computer at once we divide it in several smaller batches.\n",
    "\n",
    "#### Batch\n",
    "\n",
    "Total number of training examples present in a single batch.\n",
    "\n",
    "#### Iteration\n",
    "\n",
    "Iteration is the number of batches needed to complete one epoch.\n",
    "\n",
    "\n",
    "When the model goes through the whole 60k images once,learning how to classify 0-9, it's consider 1 epoch. However, there's a concept of batch size where it means the model would train with 100 images everytime. When the model updates its weights (parameters) after looking at all the images, this is considered 1 iteration. We arbitrarily set 3000 iterations here which means the model would update 3000 times. \n",
    "\n",
    "One epoch consists of 60,000 / 100 = 600 iterations. Because we would like to go through 3000 iterations, this implies we would have 3000 / 600 = 5 epochs as each epoch has 600 iterations.  \n",
    "\n",
    "\n",
    "total data : 60000\n",
    "\n",
    "batch size: 100 (number of examples in 1 iteration)\n",
    "\n",
    "iterations: 3000 (one batch forward & backward pass)\n",
    "\n",
    "epochs = iterations / (total data/ minibatch)\n",
    "       = 3000/(60000/100) \n",
    "       = 5"
   ]
  },
  {
   "cell_type": "markdown",
   "id": "d094bce8",
   "metadata": {},
   "source": [
    "<div class=\"alert alert-block alert-info\"> <b>\n",
    "\n",
    "### 3. Build and train a logistic regression model with MNIST dataset  <a name=\"logre\"></a>\n",
    "\n",
    "</b></div> \n",
    "\n",
    "We train and test a logistic regression model with MNIST dataset.This dataset contains 6000 images for training and 10000 images for testing the out-of-sample performance.\n",
    "\n",
    "### Steps\n",
    "* Step 1: Load MNIST Train and test Dataset\n",
    "* Step 2: Load Dataset into DataLoader\n",
    "* Step 3: Build Model with nn.Module\n",
    "* Step 4: Instantiate Model Class\n",
    "* Step 5: Instantiate Loss Class\n",
    "* Step 6: Instantiate Optimizer Class\n",
    "* Step 7: Train Model"
   ]
  },
  {
   "cell_type": "code",
   "execution_count": 4,
   "id": "7db0d4e4",
   "metadata": {},
   "outputs": [],
   "source": [
    "import torch\n",
    "import matplotlib.pyplot as plt\n",
    "import torchvision.transforms as transforms\n",
    "from torchvision import datasets"
   ]
  },
  {
   "cell_type": "code",
   "execution_count": 6,
   "id": "fc15d9bd",
   "metadata": {},
   "outputs": [],
   "source": [
    "# Step 1: Loading MNIST Train and test Dataset\n",
    "# The dataset will be downloaded and extracted to the directory\n",
    "# root is the location of the data you saved\n",
    "# train = True: the data loaded is training data\n",
    "# download = True: if the data does not exist in root, then download it online\n",
    "# transform: Transforms images to a Pytorch Tensor\n",
    "\n",
    "# loading training data\n",
    "train_dataset = datasets.MNIST(root='./data', \n",
    "                               train=True, \n",
    "                               transform=transforms.ToTensor(),\n",
    "                               download=True)\n",
    "# loading test data\n",
    "test_dataset = datasets.MNIST(root='./data', \n",
    "                              train=False, \n",
    "                              transform=transforms.ToTensor())"
   ]
  },
  {
   "cell_type": "code",
   "execution_count": 7,
   "id": "3bfdd919",
   "metadata": {},
   "outputs": [
    {
     "name": "stdout",
     "output_type": "stream",
     "text": [
      "number of training samples: 60000\n",
      "number of testing samples: 10000\n"
     ]
    }
   ],
   "source": [
    "print(\"number of training samples: \" + str(len(train_dataset)) + \"\\n\" +\n",
    "      \"number of testing samples: \" + str(len(test_dataset)))"
   ]
  },
  {
   "cell_type": "code",
   "execution_count": 28,
   "id": "322c7c41",
   "metadata": {
    "collapsed": true
   },
   "outputs": [
    {
     "name": "stdout",
     "output_type": "stream",
     "text": [
      "(tensor([[[0.0000, 0.0000, 0.0000, 0.0000, 0.0000, 0.0000, 0.0000, 0.0000,\n",
      "          0.0000, 0.0000, 0.0000, 0.0000, 0.0000, 0.0000, 0.0000, 0.0000,\n",
      "          0.0000, 0.0000, 0.0000, 0.0000, 0.0000, 0.0000, 0.0000, 0.0000,\n",
      "          0.0000, 0.0000, 0.0000, 0.0000],\n",
      "         [0.0000, 0.0000, 0.0000, 0.0000, 0.0000, 0.0000, 0.0000, 0.0000,\n",
      "          0.0000, 0.0000, 0.0000, 0.0000, 0.0000, 0.0000, 0.0000, 0.0000,\n",
      "          0.0000, 0.0000, 0.0000, 0.0000, 0.0000, 0.0000, 0.0000, 0.0000,\n",
      "          0.0000, 0.0000, 0.0000, 0.0000],\n",
      "         [0.0000, 0.0000, 0.0000, 0.0000, 0.0000, 0.0000, 0.0000, 0.0000,\n",
      "          0.0000, 0.0000, 0.0000, 0.0000, 0.0000, 0.0000, 0.0000, 0.0000,\n",
      "          0.0000, 0.0000, 0.0000, 0.0000, 0.0000, 0.0000, 0.0000, 0.0000,\n",
      "          0.0000, 0.0000, 0.0000, 0.0000],\n",
      "         [0.0000, 0.0000, 0.0000, 0.0000, 0.0000, 0.0000, 0.0000, 0.0000,\n",
      "          0.0000, 0.0000, 0.0000, 0.0000, 0.0000, 0.0000, 0.0000, 0.0000,\n",
      "          0.0000, 0.0000, 0.0000, 0.0000, 0.0000, 0.0000, 0.0000, 0.0000,\n",
      "          0.0000, 0.0000, 0.0000, 0.0000],\n",
      "         [0.0000, 0.0000, 0.0000, 0.0000, 0.0000, 0.0000, 0.0000, 0.0000,\n",
      "          0.0000, 0.0000, 0.0000, 0.0000, 0.0000, 0.0000, 0.0000, 0.0000,\n",
      "          0.0000, 0.0000, 0.0000, 0.0000, 0.0000, 0.0000, 0.0000, 0.0000,\n",
      "          0.0000, 0.0000, 0.0000, 0.0000],\n",
      "         [0.0000, 0.0000, 0.0000, 0.0000, 0.0000, 0.0000, 0.0000, 0.0000,\n",
      "          0.0000, 0.0000, 0.0000, 0.0000, 0.0118, 0.0706, 0.0706, 0.0706,\n",
      "          0.4941, 0.5333, 0.6863, 0.1020, 0.6510, 1.0000, 0.9686, 0.4980,\n",
      "          0.0000, 0.0000, 0.0000, 0.0000],\n",
      "         [0.0000, 0.0000, 0.0000, 0.0000, 0.0000, 0.0000, 0.0000, 0.0000,\n",
      "          0.1176, 0.1412, 0.3686, 0.6039, 0.6667, 0.9922, 0.9922, 0.9922,\n",
      "          0.9922, 0.9922, 0.8824, 0.6745, 0.9922, 0.9490, 0.7647, 0.2510,\n",
      "          0.0000, 0.0000, 0.0000, 0.0000],\n",
      "         [0.0000, 0.0000, 0.0000, 0.0000, 0.0000, 0.0000, 0.0000, 0.1922,\n",
      "          0.9333, 0.9922, 0.9922, 0.9922, 0.9922, 0.9922, 0.9922, 0.9922,\n",
      "          0.9922, 0.9843, 0.3647, 0.3216, 0.3216, 0.2196, 0.1529, 0.0000,\n",
      "          0.0000, 0.0000, 0.0000, 0.0000],\n",
      "         [0.0000, 0.0000, 0.0000, 0.0000, 0.0000, 0.0000, 0.0000, 0.0706,\n",
      "          0.8588, 0.9922, 0.9922, 0.9922, 0.9922, 0.9922, 0.7765, 0.7137,\n",
      "          0.9686, 0.9451, 0.0000, 0.0000, 0.0000, 0.0000, 0.0000, 0.0000,\n",
      "          0.0000, 0.0000, 0.0000, 0.0000],\n",
      "         [0.0000, 0.0000, 0.0000, 0.0000, 0.0000, 0.0000, 0.0000, 0.0000,\n",
      "          0.3137, 0.6118, 0.4196, 0.9922, 0.9922, 0.8039, 0.0431, 0.0000,\n",
      "          0.1686, 0.6039, 0.0000, 0.0000, 0.0000, 0.0000, 0.0000, 0.0000,\n",
      "          0.0000, 0.0000, 0.0000, 0.0000],\n",
      "         [0.0000, 0.0000, 0.0000, 0.0000, 0.0000, 0.0000, 0.0000, 0.0000,\n",
      "          0.0000, 0.0549, 0.0039, 0.6039, 0.9922, 0.3529, 0.0000, 0.0000,\n",
      "          0.0000, 0.0000, 0.0000, 0.0000, 0.0000, 0.0000, 0.0000, 0.0000,\n",
      "          0.0000, 0.0000, 0.0000, 0.0000],\n",
      "         [0.0000, 0.0000, 0.0000, 0.0000, 0.0000, 0.0000, 0.0000, 0.0000,\n",
      "          0.0000, 0.0000, 0.0000, 0.5451, 0.9922, 0.7451, 0.0078, 0.0000,\n",
      "          0.0000, 0.0000, 0.0000, 0.0000, 0.0000, 0.0000, 0.0000, 0.0000,\n",
      "          0.0000, 0.0000, 0.0000, 0.0000],\n",
      "         [0.0000, 0.0000, 0.0000, 0.0000, 0.0000, 0.0000, 0.0000, 0.0000,\n",
      "          0.0000, 0.0000, 0.0000, 0.0431, 0.7451, 0.9922, 0.2745, 0.0000,\n",
      "          0.0000, 0.0000, 0.0000, 0.0000, 0.0000, 0.0000, 0.0000, 0.0000,\n",
      "          0.0000, 0.0000, 0.0000, 0.0000],\n",
      "         [0.0000, 0.0000, 0.0000, 0.0000, 0.0000, 0.0000, 0.0000, 0.0000,\n",
      "          0.0000, 0.0000, 0.0000, 0.0000, 0.1373, 0.9451, 0.8824, 0.6275,\n",
      "          0.4235, 0.0039, 0.0000, 0.0000, 0.0000, 0.0000, 0.0000, 0.0000,\n",
      "          0.0000, 0.0000, 0.0000, 0.0000],\n",
      "         [0.0000, 0.0000, 0.0000, 0.0000, 0.0000, 0.0000, 0.0000, 0.0000,\n",
      "          0.0000, 0.0000, 0.0000, 0.0000, 0.0000, 0.3176, 0.9412, 0.9922,\n",
      "          0.9922, 0.4667, 0.0980, 0.0000, 0.0000, 0.0000, 0.0000, 0.0000,\n",
      "          0.0000, 0.0000, 0.0000, 0.0000],\n",
      "         [0.0000, 0.0000, 0.0000, 0.0000, 0.0000, 0.0000, 0.0000, 0.0000,\n",
      "          0.0000, 0.0000, 0.0000, 0.0000, 0.0000, 0.0000, 0.1765, 0.7294,\n",
      "          0.9922, 0.9922, 0.5882, 0.1059, 0.0000, 0.0000, 0.0000, 0.0000,\n",
      "          0.0000, 0.0000, 0.0000, 0.0000],\n",
      "         [0.0000, 0.0000, 0.0000, 0.0000, 0.0000, 0.0000, 0.0000, 0.0000,\n",
      "          0.0000, 0.0000, 0.0000, 0.0000, 0.0000, 0.0000, 0.0000, 0.0627,\n",
      "          0.3647, 0.9882, 0.9922, 0.7333, 0.0000, 0.0000, 0.0000, 0.0000,\n",
      "          0.0000, 0.0000, 0.0000, 0.0000],\n",
      "         [0.0000, 0.0000, 0.0000, 0.0000, 0.0000, 0.0000, 0.0000, 0.0000,\n",
      "          0.0000, 0.0000, 0.0000, 0.0000, 0.0000, 0.0000, 0.0000, 0.0000,\n",
      "          0.0000, 0.9765, 0.9922, 0.9765, 0.2510, 0.0000, 0.0000, 0.0000,\n",
      "          0.0000, 0.0000, 0.0000, 0.0000],\n",
      "         [0.0000, 0.0000, 0.0000, 0.0000, 0.0000, 0.0000, 0.0000, 0.0000,\n",
      "          0.0000, 0.0000, 0.0000, 0.0000, 0.0000, 0.0000, 0.1804, 0.5098,\n",
      "          0.7176, 0.9922, 0.9922, 0.8118, 0.0078, 0.0000, 0.0000, 0.0000,\n",
      "          0.0000, 0.0000, 0.0000, 0.0000],\n",
      "         [0.0000, 0.0000, 0.0000, 0.0000, 0.0000, 0.0000, 0.0000, 0.0000,\n",
      "          0.0000, 0.0000, 0.0000, 0.0000, 0.1529, 0.5804, 0.8980, 0.9922,\n",
      "          0.9922, 0.9922, 0.9804, 0.7137, 0.0000, 0.0000, 0.0000, 0.0000,\n",
      "          0.0000, 0.0000, 0.0000, 0.0000],\n",
      "         [0.0000, 0.0000, 0.0000, 0.0000, 0.0000, 0.0000, 0.0000, 0.0000,\n",
      "          0.0000, 0.0000, 0.0941, 0.4471, 0.8667, 0.9922, 0.9922, 0.9922,\n",
      "          0.9922, 0.7882, 0.3059, 0.0000, 0.0000, 0.0000, 0.0000, 0.0000,\n",
      "          0.0000, 0.0000, 0.0000, 0.0000],\n",
      "         [0.0000, 0.0000, 0.0000, 0.0000, 0.0000, 0.0000, 0.0000, 0.0000,\n",
      "          0.0902, 0.2588, 0.8353, 0.9922, 0.9922, 0.9922, 0.9922, 0.7765,\n",
      "          0.3176, 0.0078, 0.0000, 0.0000, 0.0000, 0.0000, 0.0000, 0.0000,\n",
      "          0.0000, 0.0000, 0.0000, 0.0000],\n",
      "         [0.0000, 0.0000, 0.0000, 0.0000, 0.0000, 0.0000, 0.0706, 0.6706,\n",
      "          0.8588, 0.9922, 0.9922, 0.9922, 0.9922, 0.7647, 0.3137, 0.0353,\n",
      "          0.0000, 0.0000, 0.0000, 0.0000, 0.0000, 0.0000, 0.0000, 0.0000,\n",
      "          0.0000, 0.0000, 0.0000, 0.0000],\n",
      "         [0.0000, 0.0000, 0.0000, 0.0000, 0.2157, 0.6745, 0.8863, 0.9922,\n",
      "          0.9922, 0.9922, 0.9922, 0.9569, 0.5216, 0.0431, 0.0000, 0.0000,\n",
      "          0.0000, 0.0000, 0.0000, 0.0000, 0.0000, 0.0000, 0.0000, 0.0000,\n",
      "          0.0000, 0.0000, 0.0000, 0.0000],\n",
      "         [0.0000, 0.0000, 0.0000, 0.0000, 0.5333, 0.9922, 0.9922, 0.9922,\n",
      "          0.8314, 0.5294, 0.5176, 0.0627, 0.0000, 0.0000, 0.0000, 0.0000,\n",
      "          0.0000, 0.0000, 0.0000, 0.0000, 0.0000, 0.0000, 0.0000, 0.0000,\n",
      "          0.0000, 0.0000, 0.0000, 0.0000],\n",
      "         [0.0000, 0.0000, 0.0000, 0.0000, 0.0000, 0.0000, 0.0000, 0.0000,\n",
      "          0.0000, 0.0000, 0.0000, 0.0000, 0.0000, 0.0000, 0.0000, 0.0000,\n",
      "          0.0000, 0.0000, 0.0000, 0.0000, 0.0000, 0.0000, 0.0000, 0.0000,\n",
      "          0.0000, 0.0000, 0.0000, 0.0000],\n",
      "         [0.0000, 0.0000, 0.0000, 0.0000, 0.0000, 0.0000, 0.0000, 0.0000,\n",
      "          0.0000, 0.0000, 0.0000, 0.0000, 0.0000, 0.0000, 0.0000, 0.0000,\n",
      "          0.0000, 0.0000, 0.0000, 0.0000, 0.0000, 0.0000, 0.0000, 0.0000,\n",
      "          0.0000, 0.0000, 0.0000, 0.0000],\n",
      "         [0.0000, 0.0000, 0.0000, 0.0000, 0.0000, 0.0000, 0.0000, 0.0000,\n",
      "          0.0000, 0.0000, 0.0000, 0.0000, 0.0000, 0.0000, 0.0000, 0.0000,\n",
      "          0.0000, 0.0000, 0.0000, 0.0000, 0.0000, 0.0000, 0.0000, 0.0000,\n",
      "          0.0000, 0.0000, 0.0000, 0.0000]]]), 5)\n"
     ]
    }
   ],
   "source": [
    "# This is how a single image is represented in numbers. \n",
    "# It's a 28 pixel x 28 pixel image which is why you would\n",
    "# end up with this 28x28 matrix of numbers. \n",
    "print(train_dataset[0])"
   ]
  },
  {
   "cell_type": "code",
   "execution_count": 8,
   "id": "ea384494",
   "metadata": {},
   "outputs": [
    {
     "name": "stdout",
     "output_type": "stream",
     "text": [
      "data type of a single data point in the training dataset <class 'tuple'>\n",
      "datatype of the 1st training sample:  torch.FloatTensor\n",
      "size of the 1st training sample:  torch.Size([1, 28, 28])\n"
     ]
    }
   ],
   "source": [
    "# When you load MNIST dataset, each data point is actually a \n",
    "# tuple containing the image matrix and the label.\n",
    "print(\"data type of a single data point in the training dataset\", \\\n",
    "      type(train_dataset[0]))\n",
    "\n",
    "# To inspect the data type and size of the first element in \n",
    "# the training data, you can use type() and size() methods.\n",
    "print(\"datatype of the 1st training sample: \", train_dataset[0][0].type())\n",
    "print(\"size of the 1st training sample: \", train_dataset[0][0].size())"
   ]
  },
  {
   "cell_type": "code",
   "execution_count": 9,
   "id": "877a6eae",
   "metadata": {},
   "outputs": [
    {
     "name": "stdout",
     "output_type": "stream",
     "text": [
      "label of the first taining sample:  5\n",
      "label of the second taining sample:  0\n"
     ]
    }
   ],
   "source": [
    "# The second element represents the image's label. \n",
    "print(\"label of the first taining sample: \", train_dataset[0][1])\n",
    "print(\"label of the second taining sample: \", train_dataset[1][1])"
   ]
  },
  {
   "cell_type": "code",
   "execution_count": 10,
   "id": "6bb6b13e",
   "metadata": {},
   "outputs": [
    {
     "data": {
      "image/png": "[encoded data removed]",
      "text/plain": [
       "<Figure size 640x480 with 1 Axes>"
      ]
     },
     "metadata": {},
     "output_type": "display_data"
    },
    {
     "data": {
      "image/png": "[encoded data removed]",
      "text/plain": [
       "<Figure size 640x480 with 1 Axes>"
      ]
     },
     "metadata": {},
     "output_type": "display_data"
    }
   ],
   "source": [
    "# first two images in the training set represent “5” and “0”. \n",
    "img_5 = train_dataset[0][0].numpy().reshape(28, 28)\n",
    "plt.imshow(img_5, cmap='gray')\n",
    "plt.show()\n",
    "\n",
    "img_0 = train_dataset[1][0].numpy().reshape(28, 28)\n",
    "plt.imshow(img_0, cmap='gray')\n",
    "plt.show()\n"
   ]
  },
  {
   "cell_type": "code",
   "execution_count": 16,
   "id": "ad765a32",
   "metadata": {},
   "outputs": [
    {
     "name": "stdout",
     "output_type": "stream",
     "text": [
      "torch.Size([32, 1, 28, 28])\n",
      "torch.Size([28, 28])\n"
     ]
    },
    {
     "data": {
      "image/png": "[encoded data removed]",
      "text/plain": [
       "<Figure size 640x480 with 1 Axes>"
      ]
     },
     "metadata": {},
     "output_type": "display_data"
    },
    {
     "name": "stdout",
     "output_type": "stream",
     "text": [
      "The label of the given image is tensor([0, 1, 6, 9, 3, 2, 1, 2, 7, 9, 3, 6, 4, 1, 7, 1, 3, 7, 6, 5, 3, 3, 6, 4,\n",
      "        1, 0, 1, 6, 2, 7, 3, 2])\n"
     ]
    }
   ],
   "source": [
    "# Step 2: Loading Dataset into DataLoader\n",
    "\n",
    "# Usually, you do not use the dataset directly in training \n",
    "# but through a DataLoader class. This allows you to read \n",
    "# data in batches, In the following, data is loaded into a \n",
    "# DataLoader with batch size at 32.\n",
    "\n",
    "from torch.utils.data import DataLoader\n",
    "\n",
    "\n",
    "# batch_size = 100\n",
    "# n_iters = 3000\n",
    "# num_epochs = n_iters / (len(train_dataset) / batch_size)\n",
    "# num_epochs = int(num_epochs)\n",
    "# num_epochs\n",
    "\n",
    "batach_size = 32\n",
    "train_loader = DataLoader(dataset=train_dataset, \\\n",
    "                          batch_size=batach_size, shuffle=True) \n",
    "test_loader = DataLoader(dataset=test_dataset, \\\n",
    "                         batch_size=batach_size, shuffle=False)\n",
    "\n",
    "# Let’s plot some of the images to see what we’re dealing with.\n",
    "def plot_images(images):\n",
    "    # extract the 28*28 tensor from the tensor\n",
    "    images_for_plot = images[0,0,:,:] \n",
    "    print(images_for_plot.size())\n",
    "    # plot the image with colormaps='gray'\n",
    "    plt.imshow(images_for_plot, cmap='gray')  \n",
    "    plt.show()\n",
    "\n",
    "for i, (images, labels) in enumerate(train_loader): \n",
    "    # ith batch of images and labels\n",
    "    # [batch_size, channel_size, image_size_x, image_size_y]\n",
    "    print(images.size())  \n",
    "    plot_images(images)\n",
    "    print('The label of the given image is',labels) \n",
    "    break  #force to stop the for loop\n",
    "    "
   ]
  },
  {
   "cell_type": "code",
   "execution_count": 17,
   "id": "2e2237c8",
   "metadata": {},
   "outputs": [],
   "source": [
    "# Step 3: Build Model with nn.Module\n",
    "\n",
    "# The most important library for building neural networks\n",
    "# is the torch.nn library which allows us to build neural \n",
    "# networks by concatenating different types of layers.\n",
    "\n",
    "# Let’s build the model class with nn.Module for our logistic\n",
    "# regression model. This class is similar to that in the \n",
    "# previous posts but the numbers of input and output are \n",
    "# configurable.\n",
    "\n",
    "# build custom module for logistic regression\n",
    "class LogisticRegression(torch.nn.Module):    \n",
    "    # build the constructor\n",
    "    def __init__(self, n_inputs, n_outputs):\n",
    "        super(LogisticRegression, self).__init__()\n",
    "        self.linear = torch.nn.Linear(n_inputs, n_outputs)\n",
    "    # make predictions\n",
    "    def forward(self, x):\n",
    "        y_pred = torch.sigmoid(self.linear(x))\n",
    "        #y_pred= self.linear \n",
    "        return y_pred\n",
    "    \n",
    "    \n",
    "# Define a function named model, which returns a linear model\n",
    "# (xW^{T}+b) by nn.Linear(input_size, num_classes)\n",
    "# input_size is the size of the row vector x\n",
    "# num_classes is the number of classes to be classified\n",
    "# This model includes parameters W and b. \n",
    "\n",
    "# Question: what are the sizes of W and b?\n",
    "\n",
    "# Example: in MNIST, the size of all the images is 1*28*28,  \n",
    "# which can be re-arranged to a row vector x with size 784 so that input_size=784\n",
    "# num_classes=10 in MNIST.\n",
    "# Therefore, the size of W is 10*784 and the size of b is 1*10 \n",
    "\n",
    "# Linear model: xW^{T}+b\n",
    "\n",
    "# The size of W is num_classes*input_size\n",
    "# The size of b is 1*num_classes\n",
    "# The size of input x is 1*input_size (if batch_size=1)\n",
    "\n",
    "# Question: what are the sizes of W, x and b if we have a mini-batch of data?"
   ]
  },
  {
   "cell_type": "code",
   "execution_count": 18,
   "id": "9a50b0bd",
   "metadata": {},
   "outputs": [],
   "source": [
    "# Step 4: Instantiate Model Class\n",
    "\n",
    "# This model will take a 28 by 28 pixel image of handwritten\n",
    "# digits as input and classify them into one of the 10 output\n",
    "# classes of digits 0 to 9. So, here is how you can instantiate\n",
    "# the model.\n",
    "\n",
    "# instantiate the model\n",
    "n_inputs = 28*28 # makes a 1D vector of 784\n",
    "n_outputs = 10\n",
    "log_regr = LogisticRegression(n_inputs, n_outputs)"
   ]
  },
  {
   "cell_type": "code",
   "execution_count": 14,
   "id": "ccce6796",
   "metadata": {},
   "outputs": [],
   "source": [
    "# Step 5: Instantiate Loss Class\n",
    "\n",
    "# Unlike linear regression, we do not use MSE here, we need\n",
    "# Cross Entry Loss to calculate our loss before we backpropagate\n",
    "# and update our parameters.\n",
    "\n",
    "# defining Cross-Entropy loss\n",
    "criterion = torch.nn.CrossEntropyLoss()\n",
    "\n",
    "# What happens in nn.CrossEntropyLoss()?\n",
    "# It does 2 things at the same time.\n",
    "# 1. Computes softmax (logistic/softmax function)\n",
    "# 2. Computes cross entropy"
   ]
  },
  {
   "cell_type": "code",
   "execution_count": 19,
   "id": "7c72480f",
   "metadata": {},
   "outputs": [
    {
     "name": "stdout",
     "output_type": "stream",
     "text": [
      "<generator object Module.parameters at 0x7fac738c5200>\n",
      "2\n",
      "torch.Size([10, 784])\n",
      "torch.Size([10])\n"
     ]
    }
   ],
   "source": [
    "# Step 6: Instantiate Optimizer Class\n",
    "\n",
    "# At every iteration, we update our model's parameters\n",
    "# parameters = parameters - learning_rate * parameters_gradients\n",
    "\n",
    "# defining the optimizer\n",
    "# The stochastic gradient descent algorithm with a step size of 0.1.\n",
    "learning_rate = 0.01\n",
    "optimizer = torch.optim.SGD(log_regr.parameters(), lr=learning_rate)\n",
    "\n",
    "# Parameters In-Depth\n",
    "# We have 2 sets of parameters, 10x784 which is A and 10x1 \n",
    "# which is b in the y=AX+b equation where X is our input of\n",
    "# size 784.\n",
    "\n",
    "# We'll go into details subsequently how these parameters interact \n",
    "# with our input to produce our 10x1 output. \n",
    "\n",
    "# Type of parameter object\n",
    "print(log_regr.parameters())\n",
    "\n",
    "# Length of parameters\n",
    "print(len(list(log_regr.parameters())))\n",
    "\n",
    "# FC 1 Parameters \n",
    "print(list(log_regr.parameters())[0].size())\n",
    "\n",
    "# FC 1 Bias Parameters\n",
    "print(list(log_regr.parameters())[1].size())"
   ]
  },
  {
   "cell_type": "code",
   "execution_count": 23,
   "id": "41cb39bf",
   "metadata": {},
   "outputs": [
    {
     "name": "stdout",
     "output_type": "stream",
     "text": [
      "Epoch: 0. Loss: 1.6950087547302246. Accuracy: 85.21\n",
      "Epoch: 1. Loss: 1.7014524936676025. Accuracy: 85.93\n",
      "Epoch: 2. Loss: 1.6842412948608398. Accuracy: 86.31\n",
      "Epoch: 3. Loss: 1.7103575468063354. Accuracy: 86.59\n",
      "Epoch: 4. Loss: 1.7149802446365356. Accuracy: 87.03\n",
      "Epoch: 5. Loss: 1.6325715780258179. Accuracy: 87.29\n",
      "Epoch: 6. Loss: 1.6747902631759644. Accuracy: 87.34\n",
      "Epoch: 7. Loss: 1.68448805809021. Accuracy: 87.43\n",
      "Epoch: 8. Loss: 1.6315088272094727. Accuracy: 87.64\n",
      "Epoch: 9. Loss: 1.6305553913116455. Accuracy: 87.72\n"
     ]
    }
   ],
   "source": [
    "# Step 6: Train Model\n",
    "# We train this model with stochastic gradient descent\n",
    "# as the optimizer with learning rate 0.1 and cross-entropy\n",
    "# as the loss metric.\n",
    "\n",
    "epochs = 10\n",
    "Loss = []\n",
    "acc = []\n",
    "\n",
    "for epoch in range(epochs):\n",
    "    for i, (images, labels) in enumerate(train_loader):\n",
    "        # check the size of image before images.reshape, \n",
    "        # which is [batch_size,1,28,28]\n",
    "        # print(images.size()) \n",
    "        \n",
    "        # Reshape MNIST images to (batch_size, input_size)\n",
    "        images = images.reshape(images.size(0), 28*28)\n",
    "        \n",
    "        # Clear gradients w.r.t. parameters\n",
    "        optimizer.zero_grad()\n",
    "        \n",
    "        # Load images as Variable\n",
    "        # Forward pass to get output/logits\n",
    "        # outputs = log_regr(images.view(-1, 28*28))\n",
    "        # check the size of image after images.reshape, \n",
    "        # which is [batch_size,784]\n",
    "        # print(images.size())\n",
    "        \n",
    "        # Get output and forward pass to get the loss\n",
    "        outputs = log_regr(images) # the outputs of xW^{T}+b\n",
    "        \n",
    "        # Calculate Loss: softmax --> cross entropy loss\n",
    "        loss = criterion(outputs, labels)\n",
    "        # Loss.append(loss.item()) \n",
    "        \n",
    "        # Backward and compute the gradient w.r.t. parameters\n",
    "        loss.backward()\n",
    "        # Updating parameters\n",
    "        optimizer.step()\n",
    "    Loss.append(loss.item())\n",
    "    # Calculate Accuracy         \n",
    "    correct = 0\n",
    "    for images, labels in test_loader:\n",
    "        # Load images to a Torch Variable\n",
    "        # Forward pass only to get logits/output\n",
    "        outputs = log_regr(images.view(-1, 28*28))\n",
    "        # Get predictions from the maximum value\n",
    "        _, predicted = torch.max(outputs.data, 1)\n",
    "        # Total correct predictions\n",
    "        correct += (predicted == labels).sum()\n",
    "    accuracy = 100 * (correct.item()) / len(test_dataset)\n",
    "    acc.append(accuracy)\n",
    "    print('Epoch: {}. Loss: {}. Accuracy: {}'.format(epoch, loss.item(), accuracy))"
   ]
  },
  {
   "cell_type": "code",
   "execution_count": 24,
   "id": "f03b6018",
   "metadata": {},
   "outputs": [
    {
     "data": {
      "image/png": "[encoded data removed]",
      "text/plain": [
       "<Figure size 640x480 with 1 Axes>"
      ]
     },
     "metadata": {},
     "output_type": "display_data"
    }
   ],
   "source": [
    "# You have achieved an accuracy of around 90% by training \n",
    "# the model for only 50 epochs. Accuracy can be improved \n",
    "# further if the model is trained longer.\n",
    "# Let’s visualize how the graphs for loss and accuracy look like. \n",
    "# The following is the loss:\n",
    "\n",
    "plt.plot(Loss)\n",
    "plt.xlabel(\"no. of epochs\")\n",
    "plt.ylabel(\"total loss\")\n",
    "plt.title(\"Loss\")\n",
    "plt.show()"
   ]
  },
  {
   "cell_type": "code",
   "execution_count": 25,
   "id": "2fe927bc",
   "metadata": {},
   "outputs": [
    {
     "data": {
      "image/png": "[encoded data removed]",
      "text/plain": [
       "<Figure size 640x480 with 1 Axes>"
      ]
     },
     "metadata": {},
     "output_type": "display_data"
    }
   ],
   "source": [
    "plt.plot(acc)\n",
    "plt.xlabel(\"no. of epochs\")\n",
    "plt.ylabel(\"total accuracy\")\n",
    "plt.title(\"Accuracy\")\n",
    "plt.show()"
   ]
  },
  {
   "cell_type": "code",
   "execution_count": 32,
   "id": "76e27118",
   "metadata": {},
   "outputs": [
    {
     "name": "stdout",
     "output_type": "stream",
     "text": [
      "OUTPUTS\n",
      "torch.Size([16, 10])\n",
      "OUTPUTS\n",
      "tensor([5.4764e-02, 9.1365e-04, 5.1301e-02, 1.4916e-01, 8.4416e-03, 1.0926e-02,\n",
      "        1.0561e-03, 9.9849e-01, 2.3869e-02, 1.9196e-01],\n",
      "       grad_fn=<SliceBackward0>)\n"
     ]
    }
   ],
   "source": [
    "print('OUTPUTS')\n",
    "print(outputs.size())\n",
    "# This produces a 16x10 matrix because each iteration \n",
    "# has a batch size of 16 and each prediction across the \n",
    "# 10 classes, with the largest number indicating the likely\n",
    "# number it is predicting. \n",
    "\n",
    "iter_test = 0\n",
    "for images, labels in test_loader:\n",
    "    iter_test += 1\n",
    "    images = images.view(-1, 28*28).requires_grad_()\n",
    "    outputs = log_regr(images)\n",
    "    if iter_test == 1:\n",
    "        print('OUTPUTS')\n",
    "        print(outputs[0, :])\n",
    "    _, predicted = torch.max(outputs.data, 1)\n",
    "    \n",
    "# This would be a 1x10 matrix where the largest number \n",
    "# is what the model thinks the image is. Here we can see\n",
    "# that in the tensor, position 7 has the largest number, \n",
    "# indicating the model thinks the image is 7."
   ]
  },
  {
   "cell_type": "code",
   "execution_count": 30,
   "id": "c83fab12",
   "metadata": {},
   "outputs": [
    {
     "name": "stdout",
     "output_type": "stream",
     "text": [
      "torch.Size([16])\n",
      "PREDICTION\n",
      "tensor(7)\n"
     ]
    }
   ],
   "source": [
    "# Because our output is of size 16 (our batch size), \n",
    "# our prediction size would also of the size 16.\n",
    "print(predicted.size())\n",
    "\n",
    "# We are printing our prediction which as verified above,\n",
    "# should be digit 1.\n",
    "iter_test = 0\n",
    "for images, labels in test_loader:\n",
    "    iter_test += 1\n",
    "    images = images.view(-1, 28*28).requires_grad_()\n",
    "    outputs = log_regr(images)\n",
    "    _, predicted = torch.max(outputs.data, 1)\n",
    "    if iter_test == 1:\n",
    "        print('PREDICTION')\n",
    "        print(predicted[0])"
   ]
  },
  {
   "cell_type": "code",
   "execution_count": 34,
   "id": "a86dca03",
   "metadata": {},
   "outputs": [
    {
     "name": "stdout",
     "output_type": "stream",
     "text": [
      "PREDICTION\n",
      "tensor(7)\n",
      "LABEL SIZE\n",
      "torch.Size([32])\n",
      "LABEL FOR IMAGE 0\n",
      "tensor(7)\n"
     ]
    }
   ],
   "source": [
    "# We are trying to show what we are predicting and the\n",
    "# actual values. In this case, we're predicting the \n",
    "# right value 7\n",
    "\n",
    "iter_test = 0\n",
    "for images, labels in test_loader:\n",
    "    iter_test += 1\n",
    "    images = images.view(-1, 28*28).requires_grad_()\n",
    "    outputs = log_regr(images)\n",
    "    _, predicted = torch.max(outputs.data, 1)\n",
    "    if iter_test == 1:\n",
    "        print('PREDICTION')\n",
    "        print(predicted[0])\n",
    "\n",
    "        print('LABEL SIZE')\n",
    "        print(labels.size())\n",
    "\n",
    "        print('LABEL FOR IMAGE 0')\n",
    "        print(labels[0])\n"
   ]
  },
  {
   "cell_type": "code",
   "execution_count": 37,
   "id": "528b349a",
   "metadata": {},
   "outputs": [],
   "source": [
    "save_model = False\n",
    "if save_model is True:\n",
    "    # Saves only parameters\n",
    "    torch.save(model.state_dict(), 'LR_model.pkl')\n",
    "\n"
   ]
  },
  {
   "cell_type": "code",
   "execution_count": null,
   "id": "c6ee7766",
   "metadata": {},
   "outputs": [],
   "source": [
    "import torch\n",
    "import torch.nn as nn\n",
    "import torchvision.transforms as transforms\n",
    "import torchvision.datasets as dsets\n",
    "\n",
    "'''\n",
    "STEP 1: LOADING DATASET\n",
    "'''\n",
    "\n",
    "train_dataset = dsets.MNIST(root='./data', \n",
    "                            train=True, \n",
    "                            transform=transforms.ToTensor(),\n",
    "                            download=True)\n",
    "\n",
    "test_dataset = dsets.MNIST(root='./data', \n",
    "                           train=False, \n",
    "                           transform=transforms.ToTensor())\n",
    "\n",
    "'''\n",
    "STEP 2: MAKING DATASET ITERABLE\n",
    "'''\n",
    "\n",
    "batch_size = 100\n",
    "n_iters = 3000\n",
    "num_epochs = n_iters / (len(train_dataset) / batch_size)\n",
    "num_epochs = int(num_epochs)\n",
    "\n",
    "train_loader = torch.utils.data.DataLoader(dataset=train_dataset, \n",
    "                                           batch_size=batch_size, \n",
    "                                           shuffle=True)\n",
    "\n",
    "test_loader = torch.utils.data.DataLoader(dataset=test_dataset, \n",
    "                                          batch_size=batch_size, \n",
    "                                          shuffle=False)\n",
    "\n",
    "'''\n",
    "STEP 3: CREATE MODEL CLASS\n",
    "'''\n",
    "class LogisticRegressionModel(nn.Module):\n",
    "    def __init__(self, input_size, num_classes):\n",
    "        super(LogisticRegressionModel, self).__init__()\n",
    "        self.linear = nn.Linear(input_dim, output_dim)\n",
    "\n",
    "    def forward(self, x):\n",
    "        out = self.linear(x)\n",
    "        return out\n",
    "\n",
    "'''\n",
    "STEP 4: INSTANTIATE MODEL CLASS\n",
    "'''\n",
    "input_dim = 28*28\n",
    "output_dim = 10\n",
    "\n",
    "model = LogisticRegressionModel(input_dim, output_dim)\n",
    "\n",
    "#######################\n",
    "#  USE GPU FOR MODEL  #\n",
    "#######################\n",
    "\n",
    "device = torch.device(\"cuda:0\" if torch.cuda.is_available() else \"cpu\")\n",
    "model.to(device)\n",
    "\n",
    "'''\n",
    "STEP 5: INSTANTIATE LOSS CLASS\n",
    "'''\n",
    "criterion = nn.CrossEntropyLoss()\n",
    "\n",
    "\n",
    "'''\n",
    "STEP 6: INSTANTIATE OPTIMIZER CLASS\n",
    "'''\n",
    "learning_rate = 0.001\n",
    "\n",
    "optimizer = torch.optim.SGD(model.parameters(), lr=learning_rate)\n",
    "\n",
    "'''\n",
    "STEP 7: TRAIN THE MODEL\n",
    "'''\n",
    "iter = 0\n",
    "for epoch in range(num_epochs):\n",
    "    for i, (images, labels) in enumerate(train_loader):\n",
    "\n",
    "        #######################\n",
    "        #  USE GPU FOR MODEL  #\n",
    "        #######################\n",
    "        images = images.view(-1, 28*28).requires_grad_().to(device)\n",
    "        labels = labels.to(device)\n",
    "\n",
    "        # Clear gradients w.r.t. parameters\n",
    "        optimizer.zero_grad()\n",
    "\n",
    "        # Forward pass to get output/logits\n",
    "        outputs = model(images)\n",
    "\n",
    "        # Calculate Loss: softmax --> cross entropy loss\n",
    "        loss = criterion(outputs, labels)\n",
    "\n",
    "        # Getting gradients w.r.t. parameters\n",
    "        loss.backward()\n",
    "\n",
    "        # Updating parameters\n",
    "        optimizer.step()\n",
    "\n",
    "        iter += 1\n",
    "\n",
    "        if iter % 500 == 0:\n",
    "            # Calculate Accuracy         \n",
    "            correct = 0\n",
    "            total = 0\n",
    "            # Iterate through test dataset\n",
    "            for images, labels in test_loader:\n",
    "                #######################\n",
    "                #  USE GPU FOR MODEL  #\n",
    "                #######################\n",
    "                images = images.view(-1, 28*28).to(device)\n",
    "\n",
    "                # Forward pass only to get logits/output\n",
    "                outputs = model(images)\n",
    "\n",
    "                # Get predictions from the maximum value\n",
    "                _, predicted = torch.max(outputs.data, 1)\n",
    "\n",
    "                # Total number of labels\n",
    "                total += labels.size(0)\n",
    "\n",
    "                #######################\n",
    "                #  USE GPU FOR MODEL  #\n",
    "                #######################\n",
    "                # Total correct predictions\n",
    "                if torch.cuda.is_available():\n",
    "                    correct += (predicted.cpu() == labels.cpu()).sum()\n",
    "                else:\n",
    "                    correct += (predicted == labels).sum()\n",
    "\n",
    "            accuracy = 100 * correct.item() / total\n",
    "\n",
    "            # Print Loss\n",
    "            print('Iteration: {}. Loss: {}. Accuracy: {}'.format(iter, loss.item(), accuracy))\n"
   ]
  },
  {
   "cell_type": "markdown",
   "id": "a1fa5fd2",
   "metadata": {},
   "source": [
    "# Reading material\n",
    "\n",
    "1. (Important) Autograd: Automatic Differentiation https://pytorch.org/tutorials/beginner/blitz/autograd_tutorial.html#sphx-glr-beginner-blitz-autograd-tutorial-py\n",
    "\n",
    "2. Classes in Python provide a means of data and functionality together \n",
    "    https://www.w3schools.com/python/python_classes.asp\n",
    "\n",
    "3. Module: a file containing a set of functions you want to include in your application. Consider a module to be the same as a code library.\n",
    "    https://www.w3schools.com/python/python_modules.asp\n",
    "\n",
    "3. Details of torch.nn https://pytorch.org/docs/stable/nn.html\n",
    "\n",
    "4. Details of torch package https://pytorch.org/docs/stable/torch.html\n",
    "\n",
    "5. deep learning wizard https://www.deeplearningwizard.com/deep_learning/practical_pytorch/pytorch_logistic_regression/ \n",
    "\n",
    "6. Epoch vs Batch Size vs Iterations https://towardsdatascience.com/epoch-vs-iterations-vs-batch-size-4dfb9c7ce9c9\n"
   ]
  },
  {
   "cell_type": "code",
   "execution_count": null,
   "id": "aca67b0e",
   "metadata": {},
   "outputs": [],
   "source": []
  }
 ],
 "metadata": {
  "kernelspec": {
   "display_name": "Python 3 (ipykernel)",
   "language": "python",
   "name": "python3"
  },
  "language_info": {
   "codemirror_mode": {
    "name": "ipython",
    "version": 3
   },
   "file_extension": ".py",
   "mimetype": "text/x-python",
   "name": "python",
   "nbconvert_exporter": "python",
   "pygments_lexer": "ipython3",
   "version": "3.8.15"
  }
 },
 "nbformat": 4,
 "nbformat_minor": 5
}
